{
 "cells": [
  {
   "cell_type": "markdown",
   "metadata": {},
   "source": [
    "# Projeto 2 - Análise de Dados do Naufrágio do Titanic\n",
    "Curso: Fundamentos de Data Science I \n",
    "\n",
    "Aluno: Filipe Pegollo"
   ]
  },
  {
   "cell_type": "markdown",
   "metadata": {},
   "source": [
    "## Introdução\n",
    "Esta análise foi realizada em uma amostra de dados do naufrágio do RMS Titanic, um dos mais conhecidos da história que ocorreu em sua viagem inaugural em 15 de abril de 1912. Das 2224 pessoas a bordo, 1502 morreram quando o grande navio afundou após se colidir com um iceberg. A tragédia contribuiu para melhoria das normas de segurança dos navios.<br>\n",
    "A grande taxa de mortalidade se deu porque não havia botes salva-vidas suficientes para toda a tripulação, por isso apesar de vários fatores que poderiam interferir na taxa de sobrevivência alguns grupos foram priorizados nos embarques nos botes.\n",
    "Iremos utilizar o processo de análise de dados para identificar estes grupos através de variáveis, formular perguntas e compartilhar as descobertas através de apresentações de dados calculados e gráficos."
   ]
  },
  {
   "cell_type": "markdown",
   "metadata": {},
   "source": [
    "## Apresentação da Base de Dados\n",
    "O arquivo analisado é um conjunto de dados delimitado por vírgulas do tipo `CSV`. Este arquivo contém dados reais de 891 dos 2224 passageiros e tripulantes a bordo do Titanic. Este arquivo foi obtido no site Kaggle, através de um link fornecido pela Udacity: <br>\n",
    "https://www.kaggle.com/c/titanic/data\n",
    "<br><br><br>\n",
    "__Dicionário de Dados:__\n",
    "\n",
    "| Variável | Definição | Chaves |\n",
    "|------|------|------|\n",
    "|survival| \tSobreviveu| \t0 = Não, 1 = Sim\n",
    "|Pclass| Classe do Ingresso |\t1 = 1ª, 2 = 2ª, 3 = 3ª\n",
    "|sex| \tSexo do Passageiro\t\n",
    "|Age| \tIdade em Anos\n",
    "|sibsp| Irmãos / Conjuges à bordo\n",
    "|parch| Pais / Filhos à bordo\n",
    "|ticket |\tNúmero do Ingresso\t\n",
    "|fare| \tValor da tarifa paga\n",
    "|cabin| \tNúmero da Cabine\t\n",
    "|embarked| \tPorto de Embarque | \tC = Cherbourg<br> Q = Queenstown<br> S = Southampton<br>\n",
    "\n",
    "__Observações das variáveis:__\n",
    "\n",
    "`Pclass`: Representa um status sócio-econômico<br>\n",
    "1ª = Superior<br>\n",
    "2ª = Média<br>\n",
    "3ª = Inferior<br>\n",
    "\n",
    "`Age`: A idade é fracionada se for menor que 1. Se a idade for estimada está no formato `xx.5`\n",
    "\n",
    "`parch`: Algumas crianças viajaram apenas com uma babá, estas estão com o valor `parch=0`"
   ]
  },
  {
   "cell_type": "markdown",
   "metadata": {},
   "source": [
    "   ## Possíveis Questões para Análises\n",
    "Após a avaliação inicial é possível identificar algumas variáveis como `Survived`, `Pclass`, `Sex` e `Age`. A partir destas variáveis podemos levantar as seguintes questões à serem exploradas:\n",
    "1. Qual o número de sobreviventes?\n",
    "* Qual o número de vítimas?\n",
    "* Qual a proporção de vítimas e sobreviventes?\n",
    "* Passageiros de classes superiores tiveram mais chances de sobreviver?\n",
    "* Quais foram mais propensos a sobreviver, homens ou mulheres?\n",
    "* Qual a idade do passageiro mais jovem?\n",
    "* Qual a idade do passageiro mais mais velho?\n",
    "* Qual a média de idade dos passageiros?\n",
    "* O índice de sobrevivência sofre impacto pela faixa etária?\n",
    "* Quais os fatores que mais influenciaram na taxa de sobrevivência?\n",
    "\n",
    "Agora que levantamos algumas questões vamos limpar e manipular os dados para melhorar o fluxo de análise."
   ]
  },
  {
   "cell_type": "markdown",
   "metadata": {},
   "source": [
    "## Avaliando os Dados\n",
    "Primeiramente vamos ler o arquivo `titanic_data_6.csv` e avaliar algumas características como tipos de dados, quantidade, e tamanhos de linhas e colunas."
   ]
  },
  {
   "cell_type": "code",
   "execution_count": 1,
   "metadata": {},
   "outputs": [],
   "source": [
    "# Importando os pacotes lendo o arquivo e armazenando em um Dataframe\n",
    "import pandas as pd\n",
    "import numpy as np\n",
    "import matplotlib.pyplot as plt\n",
    "import matplotlib.patches as mpatches\n",
    "import seaborn as sns\n",
    "\n",
    "sns.set(style=\"darkgrid\")\n",
    "% matplotlib inline\n",
    "\n",
    "df_t = pd.read_csv('titanic_data_6.csv')"
   ]
  },
  {
   "cell_type": "markdown",
   "metadata": {},
   "source": [
    "Vizualizando amostra dos dados"
   ]
  },
  {
   "cell_type": "code",
   "execution_count": 2,
   "metadata": {
    "scrolled": true
   },
   "outputs": [
    {
     "data": {
      "text/html": [
       "<div>\n",
       "<style scoped>\n",
       "    .dataframe tbody tr th:only-of-type {\n",
       "        vertical-align: middle;\n",
       "    }\n",
       "\n",
       "    .dataframe tbody tr th {\n",
       "        vertical-align: top;\n",
       "    }\n",
       "\n",
       "    .dataframe thead th {\n",
       "        text-align: right;\n",
       "    }\n",
       "</style>\n",
       "<table border=\"1\" class=\"dataframe\">\n",
       "  <thead>\n",
       "    <tr style=\"text-align: right;\">\n",
       "      <th></th>\n",
       "      <th>PassengerId</th>\n",
       "      <th>Survived</th>\n",
       "      <th>Pclass</th>\n",
       "      <th>Name</th>\n",
       "      <th>Sex</th>\n",
       "      <th>Age</th>\n",
       "      <th>SibSp</th>\n",
       "      <th>Parch</th>\n",
       "      <th>Ticket</th>\n",
       "      <th>Fare</th>\n",
       "      <th>Cabin</th>\n",
       "      <th>Embarked</th>\n",
       "    </tr>\n",
       "  </thead>\n",
       "  <tbody>\n",
       "    <tr>\n",
       "      <th>0</th>\n",
       "      <td>1</td>\n",
       "      <td>0</td>\n",
       "      <td>3</td>\n",
       "      <td>Braund, Mr. Owen Harris</td>\n",
       "      <td>male</td>\n",
       "      <td>22.0</td>\n",
       "      <td>1</td>\n",
       "      <td>0</td>\n",
       "      <td>A/5 21171</td>\n",
       "      <td>7.2500</td>\n",
       "      <td>NaN</td>\n",
       "      <td>S</td>\n",
       "    </tr>\n",
       "    <tr>\n",
       "      <th>1</th>\n",
       "      <td>2</td>\n",
       "      <td>1</td>\n",
       "      <td>1</td>\n",
       "      <td>Cumings, Mrs. John Bradley (Florence Briggs Th...</td>\n",
       "      <td>female</td>\n",
       "      <td>38.0</td>\n",
       "      <td>1</td>\n",
       "      <td>0</td>\n",
       "      <td>PC 17599</td>\n",
       "      <td>71.2833</td>\n",
       "      <td>C85</td>\n",
       "      <td>C</td>\n",
       "    </tr>\n",
       "    <tr>\n",
       "      <th>2</th>\n",
       "      <td>3</td>\n",
       "      <td>1</td>\n",
       "      <td>3</td>\n",
       "      <td>Heikkinen, Miss. Laina</td>\n",
       "      <td>female</td>\n",
       "      <td>26.0</td>\n",
       "      <td>0</td>\n",
       "      <td>0</td>\n",
       "      <td>STON/O2. 3101282</td>\n",
       "      <td>7.9250</td>\n",
       "      <td>NaN</td>\n",
       "      <td>S</td>\n",
       "    </tr>\n",
       "    <tr>\n",
       "      <th>3</th>\n",
       "      <td>4</td>\n",
       "      <td>1</td>\n",
       "      <td>1</td>\n",
       "      <td>Futrelle, Mrs. Jacques Heath (Lily May Peel)</td>\n",
       "      <td>female</td>\n",
       "      <td>35.0</td>\n",
       "      <td>1</td>\n",
       "      <td>0</td>\n",
       "      <td>113803</td>\n",
       "      <td>53.1000</td>\n",
       "      <td>C123</td>\n",
       "      <td>S</td>\n",
       "    </tr>\n",
       "    <tr>\n",
       "      <th>4</th>\n",
       "      <td>5</td>\n",
       "      <td>0</td>\n",
       "      <td>3</td>\n",
       "      <td>Allen, Mr. William Henry</td>\n",
       "      <td>male</td>\n",
       "      <td>35.0</td>\n",
       "      <td>0</td>\n",
       "      <td>0</td>\n",
       "      <td>373450</td>\n",
       "      <td>8.0500</td>\n",
       "      <td>NaN</td>\n",
       "      <td>S</td>\n",
       "    </tr>\n",
       "  </tbody>\n",
       "</table>\n",
       "</div>"
      ],
      "text/plain": [
       "   PassengerId  Survived  Pclass  \\\n",
       "0            1         0       3   \n",
       "1            2         1       1   \n",
       "2            3         1       3   \n",
       "3            4         1       1   \n",
       "4            5         0       3   \n",
       "\n",
       "                                                Name     Sex   Age  SibSp  \\\n",
       "0                            Braund, Mr. Owen Harris    male  22.0      1   \n",
       "1  Cumings, Mrs. John Bradley (Florence Briggs Th...  female  38.0      1   \n",
       "2                             Heikkinen, Miss. Laina  female  26.0      0   \n",
       "3       Futrelle, Mrs. Jacques Heath (Lily May Peel)  female  35.0      1   \n",
       "4                           Allen, Mr. William Henry    male  35.0      0   \n",
       "\n",
       "   Parch            Ticket     Fare Cabin Embarked  \n",
       "0      0         A/5 21171   7.2500   NaN        S  \n",
       "1      0          PC 17599  71.2833   C85        C  \n",
       "2      0  STON/O2. 3101282   7.9250   NaN        S  \n",
       "3      0            113803  53.1000  C123        S  \n",
       "4      0            373450   8.0500   NaN        S  "
      ]
     },
     "execution_count": 2,
     "metadata": {},
     "output_type": "execute_result"
    }
   ],
   "source": [
    "df_t.head()"
   ]
  },
  {
   "cell_type": "markdown",
   "metadata": {},
   "source": [
    "Verificando a quantidade de linhas e colunas e se o dataframe possui algum item duplicado"
   ]
  },
  {
   "cell_type": "code",
   "execution_count": 3,
   "metadata": {},
   "outputs": [
    {
     "name": "stdout",
     "output_type": "stream",
     "text": [
      "O dataframe do titanic possui: 891 linhas e 12 colunas\n",
      "\n",
      "Não possui itens duplicados\n"
     ]
    }
   ],
   "source": [
    "# Imprime a quantidade de linhas e colunas\n",
    "print('O dataframe do titanic possui: {} linhas e {} colunas'.format(df_t.shape[0], df_t.shape[1]))\n",
    "\n",
    "# Verifica se possui itens duplicados\n",
    "if df_t.duplicated().sum() > 0:\n",
    "    print('\\n{} itens duplicados'.format(df_t.duplicated().sum()))\n",
    "else:\n",
    "    print('\\nNão possui itens duplicados')    "
   ]
  },
  {
   "cell_type": "markdown",
   "metadata": {},
   "source": [
    "Verificando os tipos de dados e colunas com valores nulos"
   ]
  },
  {
   "cell_type": "code",
   "execution_count": 4,
   "metadata": {},
   "outputs": [
    {
     "name": "stdout",
     "output_type": "stream",
     "text": [
      "<class 'pandas.core.frame.DataFrame'>\n",
      "RangeIndex: 891 entries, 0 to 890\n",
      "Data columns (total 12 columns):\n",
      "PassengerId    891 non-null int64\n",
      "Survived       891 non-null int64\n",
      "Pclass         891 non-null int64\n",
      "Name           891 non-null object\n",
      "Sex            891 non-null object\n",
      "Age            714 non-null float64\n",
      "SibSp          891 non-null int64\n",
      "Parch          891 non-null int64\n",
      "Ticket         891 non-null object\n",
      "Fare           891 non-null float64\n",
      "Cabin          204 non-null object\n",
      "Embarked       889 non-null object\n",
      "dtypes: float64(2), int64(5), object(5)\n",
      "memory usage: 83.6+ KB\n",
      "\n",
      "Colunas com valores nulos: ['Age' 'Cabin' 'Embarked']\n"
     ]
    }
   ],
   "source": [
    "df_t.info()\n",
    "\n",
    "# Verifica se a coluna possui algum valor nulo, caso positivo imprime o nome\n",
    "print('\\nColunas com valores nulos: {}'.format(df_t.columns[df_t.isnull().any()].values))"
   ]
  },
  {
   "cell_type": "markdown",
   "metadata": {},
   "source": [
    "## Limpando os Dados\n",
    "Vamos eliminar colunas que não serão utilizadas nesta análise e renomear as colunas para letras minúsculas para facilitar a codificação."
   ]
  },
  {
   "cell_type": "code",
   "execution_count": 5,
   "metadata": {},
   "outputs": [],
   "source": [
    "# Descarta colunas que não serão utilizadas\n",
    "# axis=1 para informar que estamos nos referindo a colunas\n",
    "# inplace=True para substituir as alterações no dataframe\n",
    "df_t.drop(['SibSp', 'Parch', 'Ticket', 'Fare', 'Cabin', 'Embarked'], axis=1, inplace=True)"
   ]
  },
  {
   "cell_type": "code",
   "execution_count": 6,
   "metadata": {},
   "outputs": [],
   "source": [
    "# Renomeia colunas para letras minúsculas\n",
    "df_t.rename(columns=lambda x: x.lower(), inplace=True)\n",
    "\n",
    "# Altera rótulos das colunas para português\n",
    "df_t.rename(columns={'passengerid':'id_passageiro', 'pclass':'classe', 'name':'nome', 'survived':'sobreviveu', \n",
    "                     'sex':'sexo', 'age':'idade'}, inplace=True)"
   ]
  },
  {
   "cell_type": "markdown",
   "metadata": {},
   "source": [
    "Como o conjunto de dados já possui um identificador vamos utilizá-lo como índice"
   ]
  },
  {
   "cell_type": "code",
   "execution_count": 7,
   "metadata": {},
   "outputs": [],
   "source": [
    "df_t.set_index('id_passageiro', inplace=True)"
   ]
  },
  {
   "cell_type": "markdown",
   "metadata": {},
   "source": [
    "Verificando as alterações"
   ]
  },
  {
   "cell_type": "code",
   "execution_count": 8,
   "metadata": {},
   "outputs": [
    {
     "data": {
      "text/html": [
       "<div>\n",
       "<style scoped>\n",
       "    .dataframe tbody tr th:only-of-type {\n",
       "        vertical-align: middle;\n",
       "    }\n",
       "\n",
       "    .dataframe tbody tr th {\n",
       "        vertical-align: top;\n",
       "    }\n",
       "\n",
       "    .dataframe thead th {\n",
       "        text-align: right;\n",
       "    }\n",
       "</style>\n",
       "<table border=\"1\" class=\"dataframe\">\n",
       "  <thead>\n",
       "    <tr style=\"text-align: right;\">\n",
       "      <th></th>\n",
       "      <th>sobreviveu</th>\n",
       "      <th>classe</th>\n",
       "      <th>nome</th>\n",
       "      <th>sexo</th>\n",
       "      <th>idade</th>\n",
       "    </tr>\n",
       "    <tr>\n",
       "      <th>id_passageiro</th>\n",
       "      <th></th>\n",
       "      <th></th>\n",
       "      <th></th>\n",
       "      <th></th>\n",
       "      <th></th>\n",
       "    </tr>\n",
       "  </thead>\n",
       "  <tbody>\n",
       "    <tr>\n",
       "      <th>1</th>\n",
       "      <td>0</td>\n",
       "      <td>3</td>\n",
       "      <td>Braund, Mr. Owen Harris</td>\n",
       "      <td>male</td>\n",
       "      <td>22.0</td>\n",
       "    </tr>\n",
       "    <tr>\n",
       "      <th>2</th>\n",
       "      <td>1</td>\n",
       "      <td>1</td>\n",
       "      <td>Cumings, Mrs. John Bradley (Florence Briggs Th...</td>\n",
       "      <td>female</td>\n",
       "      <td>38.0</td>\n",
       "    </tr>\n",
       "    <tr>\n",
       "      <th>3</th>\n",
       "      <td>1</td>\n",
       "      <td>3</td>\n",
       "      <td>Heikkinen, Miss. Laina</td>\n",
       "      <td>female</td>\n",
       "      <td>26.0</td>\n",
       "    </tr>\n",
       "    <tr>\n",
       "      <th>4</th>\n",
       "      <td>1</td>\n",
       "      <td>1</td>\n",
       "      <td>Futrelle, Mrs. Jacques Heath (Lily May Peel)</td>\n",
       "      <td>female</td>\n",
       "      <td>35.0</td>\n",
       "    </tr>\n",
       "    <tr>\n",
       "      <th>5</th>\n",
       "      <td>0</td>\n",
       "      <td>3</td>\n",
       "      <td>Allen, Mr. William Henry</td>\n",
       "      <td>male</td>\n",
       "      <td>35.0</td>\n",
       "    </tr>\n",
       "  </tbody>\n",
       "</table>\n",
       "</div>"
      ],
      "text/plain": [
       "               sobreviveu  classe  \\\n",
       "id_passageiro                       \n",
       "1                       0       3   \n",
       "2                       1       1   \n",
       "3                       1       3   \n",
       "4                       1       1   \n",
       "5                       0       3   \n",
       "\n",
       "                                                            nome    sexo  \\\n",
       "id_passageiro                                                              \n",
       "1                                        Braund, Mr. Owen Harris    male   \n",
       "2              Cumings, Mrs. John Bradley (Florence Briggs Th...  female   \n",
       "3                                         Heikkinen, Miss. Laina  female   \n",
       "4                   Futrelle, Mrs. Jacques Heath (Lily May Peel)  female   \n",
       "5                                       Allen, Mr. William Henry    male   \n",
       "\n",
       "               idade  \n",
       "id_passageiro         \n",
       "1               22.0  \n",
       "2               38.0  \n",
       "3               26.0  \n",
       "4               35.0  \n",
       "5               35.0  "
      ]
     },
     "execution_count": 8,
     "metadata": {},
     "output_type": "execute_result"
    }
   ],
   "source": [
    "df_t.head()"
   ]
  },
  {
   "cell_type": "markdown",
   "metadata": {},
   "source": [
    "## Manipulação de Valores e Tipos de Dados\n",
    "Com o objetivo de facilitar as análises vamos alterar alguns valores substituindo por termos mais claros e alterar o tipo de dados da coluna se for preciso"
   ]
  },
  {
   "cell_type": "code",
   "execution_count": 9,
   "metadata": {
    "scrolled": true
   },
   "outputs": [],
   "source": [
    "# Altera os valores da coluna sexo para masculino e feminino\n",
    "df_t.replace({'sexo':{'male':'masculino', 'female':'feminino'}}, inplace=True)"
   ]
  },
  {
   "cell_type": "markdown",
   "metadata": {},
   "source": [
    "Para alterar os valores da coluna `sobreviveu` primeiro precisamos converter de int para string"
   ]
  },
  {
   "cell_type": "code",
   "execution_count": 10,
   "metadata": {},
   "outputs": [],
   "source": [
    "df_t['sobreviveu'] = df_t['sobreviveu'].astype(str)"
   ]
  },
  {
   "cell_type": "markdown",
   "metadata": {},
   "source": [
    "Agora que convertemos, podemos alterar os valores"
   ]
  },
  {
   "cell_type": "code",
   "execution_count": 11,
   "metadata": {},
   "outputs": [],
   "source": [
    "df_t.replace({'sobreviveu':{'0':'não', '1':'sim'}}, inplace=True)"
   ]
  },
  {
   "cell_type": "markdown",
   "metadata": {},
   "source": [
    "Verificando as alterações"
   ]
  },
  {
   "cell_type": "code",
   "execution_count": 12,
   "metadata": {},
   "outputs": [
    {
     "data": {
      "text/html": [
       "<div>\n",
       "<style scoped>\n",
       "    .dataframe tbody tr th:only-of-type {\n",
       "        vertical-align: middle;\n",
       "    }\n",
       "\n",
       "    .dataframe tbody tr th {\n",
       "        vertical-align: top;\n",
       "    }\n",
       "\n",
       "    .dataframe thead th {\n",
       "        text-align: right;\n",
       "    }\n",
       "</style>\n",
       "<table border=\"1\" class=\"dataframe\">\n",
       "  <thead>\n",
       "    <tr style=\"text-align: right;\">\n",
       "      <th></th>\n",
       "      <th>sobreviveu</th>\n",
       "      <th>classe</th>\n",
       "      <th>nome</th>\n",
       "      <th>sexo</th>\n",
       "      <th>idade</th>\n",
       "    </tr>\n",
       "    <tr>\n",
       "      <th>id_passageiro</th>\n",
       "      <th></th>\n",
       "      <th></th>\n",
       "      <th></th>\n",
       "      <th></th>\n",
       "      <th></th>\n",
       "    </tr>\n",
       "  </thead>\n",
       "  <tbody>\n",
       "    <tr>\n",
       "      <th>1</th>\n",
       "      <td>não</td>\n",
       "      <td>3</td>\n",
       "      <td>Braund, Mr. Owen Harris</td>\n",
       "      <td>masculino</td>\n",
       "      <td>22.0</td>\n",
       "    </tr>\n",
       "    <tr>\n",
       "      <th>2</th>\n",
       "      <td>sim</td>\n",
       "      <td>1</td>\n",
       "      <td>Cumings, Mrs. John Bradley (Florence Briggs Th...</td>\n",
       "      <td>feminino</td>\n",
       "      <td>38.0</td>\n",
       "    </tr>\n",
       "    <tr>\n",
       "      <th>3</th>\n",
       "      <td>sim</td>\n",
       "      <td>3</td>\n",
       "      <td>Heikkinen, Miss. Laina</td>\n",
       "      <td>feminino</td>\n",
       "      <td>26.0</td>\n",
       "    </tr>\n",
       "    <tr>\n",
       "      <th>4</th>\n",
       "      <td>sim</td>\n",
       "      <td>1</td>\n",
       "      <td>Futrelle, Mrs. Jacques Heath (Lily May Peel)</td>\n",
       "      <td>feminino</td>\n",
       "      <td>35.0</td>\n",
       "    </tr>\n",
       "    <tr>\n",
       "      <th>5</th>\n",
       "      <td>não</td>\n",
       "      <td>3</td>\n",
       "      <td>Allen, Mr. William Henry</td>\n",
       "      <td>masculino</td>\n",
       "      <td>35.0</td>\n",
       "    </tr>\n",
       "  </tbody>\n",
       "</table>\n",
       "</div>"
      ],
      "text/plain": [
       "              sobreviveu  classe  \\\n",
       "id_passageiro                      \n",
       "1                    não       3   \n",
       "2                    sim       1   \n",
       "3                    sim       3   \n",
       "4                    sim       1   \n",
       "5                    não       3   \n",
       "\n",
       "                                                            nome       sexo  \\\n",
       "id_passageiro                                                                 \n",
       "1                                        Braund, Mr. Owen Harris  masculino   \n",
       "2              Cumings, Mrs. John Bradley (Florence Briggs Th...   feminino   \n",
       "3                                         Heikkinen, Miss. Laina   feminino   \n",
       "4                   Futrelle, Mrs. Jacques Heath (Lily May Peel)   feminino   \n",
       "5                                       Allen, Mr. William Henry  masculino   \n",
       "\n",
       "               idade  \n",
       "id_passageiro         \n",
       "1               22.0  \n",
       "2               38.0  \n",
       "3               26.0  \n",
       "4               35.0  \n",
       "5               35.0  "
      ]
     },
     "execution_count": 12,
     "metadata": {},
     "output_type": "execute_result"
    }
   ],
   "source": [
    "df_t.head()"
   ]
  },
  {
   "cell_type": "code",
   "execution_count": 13,
   "metadata": {},
   "outputs": [],
   "source": [
    "# Salvando o conjunto de dados limpos em um novo arquivo\n",
    "df_t.to_csv('titanic_data_6_clean.csv', index=True)"
   ]
  },
  {
   "cell_type": "markdown",
   "metadata": {},
   "source": [
    "## Exploração e Análise de Dados\n",
    "Agora que temos os dados limpos e tratados vamos explorar os dados levantando números e criando gráficos para as análises"
   ]
  },
  {
   "cell_type": "code",
   "execution_count": 14,
   "metadata": {},
   "outputs": [
    {
     "name": "stdout",
     "output_type": "stream",
     "text": [
      "Não Sobreviventes: 549\n",
      "Sobreviventes: 342\n"
     ]
    }
   ],
   "source": [
    "# Verifica a quantidade de sobreviventes\n",
    "print('Não Sobreviventes: {}'.format(df_t['sobreviveu'].value_counts()[0]))\n",
    "print('Sobreviventes: {}'.format(df_t['sobreviveu'].value_counts()[1]))"
   ]
  },
  {
   "cell_type": "markdown",
   "metadata": {},
   "source": [
    "Gráfico de barras para vizualizar o número de vítimas sobreviventes:"
   ]
  },
  {
   "cell_type": "code",
   "execution_count": 15,
   "metadata": {
    "scrolled": true
   },
   "outputs": [
    {
     "data": {
      "text/plain": [
       "Text(0,0.5,'Nº de Passageiros')"
      ]
     },
     "execution_count": 15,
     "metadata": {},
     "output_type": "execute_result"
    },
    {
     "data": {
      "image/png": "[encoded data removed]",
      "text/plain": [
       "<Figure size 288x288 with 1 Axes>"
      ]
     },
     "metadata": {
      "needs_background": "light"
     },
     "output_type": "display_data"
    }
   ],
   "source": [
    "# Cria um gráfico de barras\n",
    "df_t['sobreviveu'].value_counts().plot(kind='bar', fontsize=15, figsize=(4,4), color=['darkred', 'green'], rot=0)\n",
    "\n",
    "# Ajusta o tamanho da fonte do título para ficar igual dos labels\n",
    "plt.title('Total de Vítimas e Sobreviventes', fontsize=15)\n",
    "plt.xlabel('Sobreviveu',fontsize=14)\n",
    "plt.ylabel('Nº de Passageiros',fontsize=14)"
   ]
  },
  {
   "cell_type": "markdown",
   "metadata": {},
   "source": [
    "Agora vamos criar um gráfico de pizza com a proporção dos sobreviventes:"
   ]
  },
  {
   "cell_type": "code",
   "execution_count": 16,
   "metadata": {},
   "outputs": [
    {
     "data": {
      "text/plain": [
       "Text(0,0.5,'Sobreviveu')"
      ]
     },
     "execution_count": 16,
     "metadata": {},
     "output_type": "execute_result"
    },
    {
     "data": {
      "image/png": "[encoded data removed]",
      "text/plain": [
       "<Figure size 360x360 with 1 Axes>"
      ]
     },
     "metadata": {},
     "output_type": "display_data"
    }
   ],
   "source": [
    "df_t['sobreviveu'].value_counts().plot(kind='pie', autopct='%1.0f%%', startangle=90, fontsize=15, figsize=(5,5),\n",
    "                                       colors=['darkred', 'green'], textprops=dict(color='black', weight='bold'))\n",
    "plt.title('Proporção de Sobreviventes', fontsize=15)\n",
    "plt.xlabel('Proporção',fontsize=14)\n",
    "plt.ylabel('Sobreviveu',fontsize=14)"
   ]
  },
  {
   "cell_type": "markdown",
   "metadata": {},
   "source": [
    "#### Observação:\n",
    "Análisando estes dados e gráficos podemos ver que a maioria dos tripulantes do conjunto de dados não sobreviveu. Agora vamos verificar fatores que influenciaram neste resultado."
   ]
  },
  {
   "cell_type": "markdown",
   "metadata": {},
   "source": [
    "Gráfico de pizza para avaliar a proporção de classes:"
   ]
  },
  {
   "cell_type": "code",
   "execution_count": 17,
   "metadata": {},
   "outputs": [
    {
     "data": {
      "text/plain": [
       "Text(0,0.5,'Classe')"
      ]
     },
     "execution_count": 17,
     "metadata": {},
     "output_type": "execute_result"
    },
    {
     "data": {
      "image/png": "[encoded data removed]",
      "text/plain": [
       "<Figure size 360x360 with 1 Axes>"
      ]
     },
     "metadata": {},
     "output_type": "display_data"
    }
   ],
   "source": [
    "df_t['classe'].value_counts().plot(kind='pie', autopct='%1.1f%%', startangle=90, fontsize=15, figsize=(5,5),\n",
    "                                   textprops=dict(color='black', weight='bold'))\n",
    "plt.title('Proporção de Classes na Tripulação', fontsize=15)\n",
    "plt.xlabel('Proporção',fontsize=14)\n",
    "plt.ylabel('Classe',fontsize=14)"
   ]
  },
  {
   "cell_type": "markdown",
   "metadata": {},
   "source": [
    "#### Observação:\n",
    "É possível ver neste gráfico que a maioria da tripulação era da terceira classe, então a tendência natural seria que tivesse maior número de vítimas e sobreviventes, mas vamos verificar se foi realmente isso que aconteceu"
   ]
  },
  {
   "cell_type": "markdown",
   "metadata": {},
   "source": [
    "Utilizando groupby para verificar o total de sobreviventes por classe:"
   ]
  },
  {
   "cell_type": "code",
   "execution_count": 18,
   "metadata": {},
   "outputs": [
    {
     "data": {
      "text/plain": [
       "classe  sobreviveu\n",
       "1       não            80\n",
       "        sim           136\n",
       "2       não            97\n",
       "        sim            87\n",
       "3       não           372\n",
       "        sim           119\n",
       "Name: classe, dtype: int64"
      ]
     },
     "execution_count": 18,
     "metadata": {},
     "output_type": "execute_result"
    }
   ],
   "source": [
    "df_t.groupby(['classe', 'sobreviveu'])['classe'].count()"
   ]
  },
  {
   "cell_type": "markdown",
   "metadata": {},
   "source": [
    "Agora vamos criar um gráfico de barras empilhado para melhor visualização:"
   ]
  },
  {
   "cell_type": "code",
   "execution_count": 19,
   "metadata": {},
   "outputs": [
    {
     "data": {
      "image/png": "[encoded data removed]",
      "text/plain": [
       "<Figure size 432x288 with 1 Axes>"
      ]
     },
     "metadata": {
      "needs_background": "light"
     },
     "output_type": "display_data"
    }
   ],
   "source": [
    "# Cria uma tabela para contar as vítimas e sobreviventes por classe\n",
    "cl_sob = df_t.pivot_table(values='nome', index='classe', aggfunc='count', columns='sobreviveu')\n",
    "\n",
    "# Cria as barras de sobreviventes divididos por classe \n",
    "# 'bottom' é utilizado para alinhar uma coluna sobre a outra\n",
    "x_pos = np.arange(len(cl_sob['não']))\n",
    "bar_n = plt.bar(x_pos, cl_sob['não'], 0.5, color='darkred')\n",
    "bar_s = plt.bar(x_pos, cl_sob['sim'], 0.5, color='green', bottom=cl_sob['não'])\n",
    "\n",
    "# Definindo título e labels do eixo x\n",
    "plt.title('Sobreviventes por Classe', fontsize=15)\n",
    "plt.xticks(x_pos, ('1ª Classe', '2ª Classe', '3ª Classe'), fontsize=13)\n",
    "plt.xlabel('Classe dos Passageiros',fontsize=14)\n",
    "plt.ylabel('Nº de Passageiros',fontsize=14)\n",
    "\n",
    "# Definindo parâmetros da legenda\n",
    "sim = mpatches.Patch(color='green', label='Sim')\n",
    "nao = mpatches.Patch(color='darkred', label='Não')\n",
    "plt.legend(title='Sobreviveu', handles=[sim, nao], loc=2)\n",
    "\n",
    "plt.show()"
   ]
  },
  {
   "cell_type": "markdown",
   "metadata": {},
   "source": [
    "#### Função para calcular as proporções:\n",
    "Para otimizar a codificação vamos criar uma função que recebe o número de sobreviventes e vítimas de determinada variável e calcula o valor proporcional ao número total."
   ]
  },
  {
   "cell_type": "code",
   "execution_count": 20,
   "metadata": {},
   "outputs": [],
   "source": [
    "# Cria a função para calcular as proporções para que possa ser usada em outros casos\n",
    "def calc_prop(lista):\n",
    "    \"\"\"\n",
    "        Função para calcular a proporção de uma lista\n",
    "        Argumentos:\n",
    "            Lista: Tabela com o número de sobreviventes por determinada variável\n",
    "        Retorna:\n",
    "            Uma lista com a taxa proporcional de sobreviventes\n",
    "    \"\"\"\n",
    "    for i in range(len(lista)):\n",
    "        prop = (lista['sim'].iloc[i] / lista.iloc[i].sum()) * 100\n",
    "        print('{}: {:.2f} %'.format(str(lista.index[i]).title(), prop))"
   ]
  },
  {
   "cell_type": "code",
   "execution_count": 21,
   "metadata": {},
   "outputs": [
    {
     "name": "stdout",
     "output_type": "stream",
     "text": [
      "Taxa de Sobrevivência por Classe\n",
      "1: 62.96 %\n",
      "2: 47.28 %\n",
      "3: 24.24 %\n"
     ]
    }
   ],
   "source": [
    "print('Taxa de Sobrevivência por Classe')\n",
    "\n",
    "# Utilizando a função para calcular a proporção por classe\n",
    "calc_prop(cl_sob)"
   ]
  },
  {
   "cell_type": "markdown",
   "metadata": {},
   "source": [
    "#### Observação:\n",
    "Como podemos ver nos gráficos e informações acima, a 1ª classe possuía um número total bem menor do que a 3ª classe, no entanto teve um número maior de sobreviventes e um número menor de vítimas, enquanto a 3ª classe foi o oposto tendo o maior número de vítimas e menor taxa proporcional de sobrevivência."
   ]
  },
  {
   "cell_type": "markdown",
   "metadata": {},
   "source": [
    "Criando gráfico de pizza para avaliar a proporção de homens e mulheres:"
   ]
  },
  {
   "cell_type": "code",
   "execution_count": 22,
   "metadata": {
    "scrolled": false
   },
   "outputs": [
    {
     "data": {
      "text/plain": [
       "Text(0,0.5,'sexo')"
      ]
     },
     "execution_count": 22,
     "metadata": {},
     "output_type": "execute_result"
    },
    {
     "data": {
      "image/png": "[encoded data removed]",
      "text/plain": [
       "<Figure size 360x360 with 1 Axes>"
      ]
     },
     "metadata": {},
     "output_type": "display_data"
    }
   ],
   "source": [
    "df_t['sexo'].value_counts().plot(kind='pie', autopct='%1.1f%%', startangle=180, fontsize=15, figsize=(5,5), \n",
    "                                 colors=['skyblue', 'salmon'], textprops=dict(color='black', weight='bold'))\n",
    "plt.title('Proporção de Homens e Mulheres', fontsize=15)\n",
    "plt.xlabel('Proporção',fontsize=14)\n",
    "plt.ylabel('sexo',fontsize=14)"
   ]
  },
  {
   "cell_type": "markdown",
   "metadata": {},
   "source": [
    "Agora vamos criar um gráfico com a distribuição de homens e mulheres por classe:"
   ]
  },
  {
   "cell_type": "code",
   "execution_count": 23,
   "metadata": {},
   "outputs": [
    {
     "data": {
      "image/png": "[encoded data removed]",
      "text/plain": [
       "<Figure size 432x288 with 1 Axes>"
      ]
     },
     "metadata": {
      "needs_background": "light"
     },
     "output_type": "display_data"
    }
   ],
   "source": [
    "# Cria uma tabela com os dados e armazena em uma variável\n",
    "cl_sx = df_t.pivot_table(values='nome', index='classe', aggfunc='count', columns='sexo')\n",
    "\n",
    "# Cria as barras 'bottom' é utilizado para alinhar uma coluna sobre a outra\n",
    "x_pos = np.arange(len(cl_sx['masculino']))\n",
    "bar_n = plt.bar(x_pos, cl_sx['masculino'], 0.5, color='skyblue')\n",
    "bar_s = plt.bar(x_pos, cl_sx['feminino'], 0.5, color='salmon', bottom=cl_sx['masculino'])\n",
    "\n",
    "# Definindo título e labels do eixo x\n",
    "plt.title('Quantidade de Homens e Mulheres por Classe', fontsize=15)\n",
    "plt.xticks(x_pos, ('1ª Classe', '2ª Classe', '3ª Classe'), fontsize=13)\n",
    "plt.xlabel('Classe dos Passageiros',fontsize=14)\n",
    "plt.ylabel('Nº de Passageiros',fontsize=14)\n",
    "\n",
    "# Definindo parâmetros da legenda\n",
    "homens = mpatches.Patch(color='skyblue', label='Masculino')\n",
    "mulheres = mpatches.Patch(color='salmon', label='Feminino')\n",
    "plt.legend(title='Sexo', handles=[homens, mulheres], loc=2)\n",
    "\n",
    "plt.show()"
   ]
  },
  {
   "cell_type": "markdown",
   "metadata": {},
   "source": [
    "#### Observação:\n",
    "A quantidade de homens é predominante no geral e também em cada classe, vamos verificar se a taxa se sobreviventes acompanhou a proporção do sexo."
   ]
  },
  {
   "cell_type": "markdown",
   "metadata": {},
   "source": [
    "Utilizando groupby para verificar o total de sobreviventes por sexo:"
   ]
  },
  {
   "cell_type": "code",
   "execution_count": 24,
   "metadata": {
    "scrolled": true
   },
   "outputs": [
    {
     "data": {
      "text/plain": [
       "sexo       sobreviveu\n",
       "feminino   não            81\n",
       "           sim           233\n",
       "masculino  não           468\n",
       "           sim           109\n",
       "Name: sexo, dtype: int64"
      ]
     },
     "execution_count": 24,
     "metadata": {},
     "output_type": "execute_result"
    }
   ],
   "source": [
    "df_t.groupby(['sexo', 'sobreviveu'])['sexo'].count()"
   ]
  },
  {
   "cell_type": "markdown",
   "metadata": {},
   "source": [
    "Agora vamos criar um gráfico de barras empilhado para melhor visualização do número de sobreviventes por gênero:"
   ]
  },
  {
   "cell_type": "code",
   "execution_count": 25,
   "metadata": {
    "scrolled": false
   },
   "outputs": [
    {
     "data": {
      "image/png": "[encoded data removed]",
      "text/plain": [
       "<Figure size 432x288 with 1 Axes>"
      ]
     },
     "metadata": {
      "needs_background": "light"
     },
     "output_type": "display_data"
    }
   ],
   "source": [
    "# Cria uma tabela para contar as vítimas e sobreviventes por sexo\n",
    "sx_sob = df_t.pivot_table(values='nome', index='sexo', aggfunc='count', columns='sobreviveu')\n",
    "\n",
    "# Cria as barras de sobreviventes divididos por classe \n",
    "# 'bottom' é utilizado para alinhar uma coluna sobre a outra\n",
    "x_pos = np.arange(len(sx_sob['não']))\n",
    "bar_n = plt.bar(x_pos, sx_sob['não'], 0.5, color='darkred')\n",
    "bar_s = plt.bar(x_pos, sx_sob['sim'], 0.5, color='green', bottom=sx_sob['não'])\n",
    "\n",
    "# Definindo título e labels do eixo x\n",
    "plt.title('Sobreviventes por Gênero', fontsize=15)\n",
    "plt.xticks(x_pos, ('Mulheres', 'Homens'), fontsize=13)\n",
    "plt.xlabel('Grupo de Gênero',fontsize=14)\n",
    "plt.ylabel('Nº de Passageiros',fontsize=14)\n",
    "\n",
    "# Definindo parâmetros da legenda\n",
    "sim = mpatches.Patch(color='green', label='Sim')\n",
    "nao = mpatches.Patch(color='darkred', label='Não')\n",
    "plt.legend(title='Sobreviveu', handles=[sim, nao], loc=2)\n",
    "\n",
    "plt.show()"
   ]
  },
  {
   "cell_type": "code",
   "execution_count": 26,
   "metadata": {},
   "outputs": [
    {
     "name": "stdout",
     "output_type": "stream",
     "text": [
      "Taxa de Sobrevivência por Gênero\n",
      "Feminino: 74.20 %\n",
      "Masculino: 18.89 %\n"
     ]
    }
   ],
   "source": [
    "print('Taxa de Sobrevivência por Gênero')\n",
    "\n",
    "# Utilizando a função para calcular a proporção por gênero\n",
    "calc_prop(sx_sob)"
   ]
  },
  {
   "cell_type": "markdown",
   "metadata": {},
   "source": [
    "#### Observação:\n",
    "Assim como em relação as classes o número de sobreviventes por gênero também não acompanhou a proporção total, isso significa que o sexo do passageiro também influenciou na taxa de sobrevivência. As mulheres tiveram uma taxa muito maior do que a dos homens. Agora vamos verificar outra variável a idade."
   ]
  },
  {
   "cell_type": "markdown",
   "metadata": {},
   "source": [
    "## Filtrando Valores Nulos e Classificando Dados\n",
    "Como foi visto na avaliação dos dados, a coluna de idade possui valores nulos, por isso vamos filtrar para remover estes valores, e depois, para facilitar a análise vamos classificar os passageiros em `crianças`, `adultos` e `idosos`"
   ]
  },
  {
   "cell_type": "code",
   "execution_count": 27,
   "metadata": {},
   "outputs": [
    {
     "name": "stdout",
     "output_type": "stream",
     "text": [
      "False\n"
     ]
    }
   ],
   "source": [
    "# Filtra apenas valores de idade que não sejam nulos\n",
    "df_t = df_t[df_t['idade'].notna()]\n",
    "\n",
    "# Confirma se existe algum valor nulo na coluna\n",
    "print(df_t['idade'].isnull().sum().any())"
   ]
  },
  {
   "cell_type": "markdown",
   "metadata": {},
   "source": [
    "Agora vamos verificar a idade do passageiro mais jovem e mais velho, e verificar a idade média dos passageiros. <br>\n",
    "Idades abaixo de um ano estão fracionadas por isso precisamos verificar e converter para meses caso necessário."
   ]
  },
  {
   "cell_type": "code",
   "execution_count": 28,
   "metadata": {},
   "outputs": [
    {
     "name": "stdout",
     "output_type": "stream",
     "text": [
      "Passageiro mais jovem: 5 meses\n",
      "Passageiro mais velho: 80 anos\n",
      "Idade média dos passageiros: 30 anos\n"
     ]
    }
   ],
   "source": [
    "# Verifica se idade mínima é menor que 1 ano\n",
    "if df_t['idade'].min() < 1:\n",
    "    idade = int(df_t['idade'].min()* 12)\n",
    "    print('Passageiro mais jovem: {} meses'.format(idade))\n",
    "else:\n",
    "    print('Passageiro mais jovem: {} anos'.format(df_t['idade'].min()))\n",
    "\n",
    "# Verifica a idade máxima\n",
    "print('Passageiro mais velho: {:.0f} anos'.format(df_t['idade'].max()))\n",
    "\n",
    "# Verifica a média de idades\n",
    "print('Idade média dos passageiros: {:.0f} anos'.format(df_t['idade'].mean()))"
   ]
  },
  {
   "cell_type": "markdown",
   "metadata": {},
   "source": [
    "Agora iremos classificar as idades da seguinte forma:\n",
    "* Crianças: De 0 a 17 anos\n",
    "* Adultos: De 18 a 64 anos\n",
    "* Idosos: De 65 anos em diante\n",
    "\n",
    "Para isso iremos criar uma coluna para armazenar a faixa etária chamada `faixa_e`"
   ]
  },
  {
   "cell_type": "code",
   "execution_count": 29,
   "metadata": {},
   "outputs": [],
   "source": [
    "# Seleciona passageiros com idade menor ou igual a 17 anos\n",
    "# e adiciona a classificação crianças a nova coluna de faixa etária\n",
    "df_t.loc[df_t['idade'] <= 17, 'faixa_e'] = 'crianças'\n",
    "\n",
    "# Classifica passageiros adultos com idade maior que 17 e menor ou igual a 64 anos\n",
    "df_t.loc[(df_t['idade'] > 17) & (df_t['idade'] <= 64), 'faixa_e'] = 'adultos'\n",
    "\n",
    "# Classifica passageiros idosos com idade maior que 64 anos\n",
    "df_t.loc[df_t['idade'] > 64, 'faixa_e'] = 'idosos'"
   ]
  },
  {
   "cell_type": "markdown",
   "metadata": {},
   "source": [
    "Verificando as alterações:"
   ]
  },
  {
   "cell_type": "code",
   "execution_count": 30,
   "metadata": {
    "scrolled": true
   },
   "outputs": [
    {
     "data": {
      "text/html": [
       "<div>\n",
       "<style scoped>\n",
       "    .dataframe tbody tr th:only-of-type {\n",
       "        vertical-align: middle;\n",
       "    }\n",
       "\n",
       "    .dataframe tbody tr th {\n",
       "        vertical-align: top;\n",
       "    }\n",
       "\n",
       "    .dataframe thead th {\n",
       "        text-align: right;\n",
       "    }\n",
       "</style>\n",
       "<table border=\"1\" class=\"dataframe\">\n",
       "  <thead>\n",
       "    <tr style=\"text-align: right;\">\n",
       "      <th></th>\n",
       "      <th>sobreviveu</th>\n",
       "      <th>classe</th>\n",
       "      <th>nome</th>\n",
       "      <th>sexo</th>\n",
       "      <th>idade</th>\n",
       "      <th>faixa_e</th>\n",
       "    </tr>\n",
       "    <tr>\n",
       "      <th>id_passageiro</th>\n",
       "      <th></th>\n",
       "      <th></th>\n",
       "      <th></th>\n",
       "      <th></th>\n",
       "      <th></th>\n",
       "      <th></th>\n",
       "    </tr>\n",
       "  </thead>\n",
       "  <tbody>\n",
       "    <tr>\n",
       "      <th>1</th>\n",
       "      <td>não</td>\n",
       "      <td>3</td>\n",
       "      <td>Braund, Mr. Owen Harris</td>\n",
       "      <td>masculino</td>\n",
       "      <td>22.0</td>\n",
       "      <td>adultos</td>\n",
       "    </tr>\n",
       "    <tr>\n",
       "      <th>2</th>\n",
       "      <td>sim</td>\n",
       "      <td>1</td>\n",
       "      <td>Cumings, Mrs. John Bradley (Florence Briggs Th...</td>\n",
       "      <td>feminino</td>\n",
       "      <td>38.0</td>\n",
       "      <td>adultos</td>\n",
       "    </tr>\n",
       "    <tr>\n",
       "      <th>3</th>\n",
       "      <td>sim</td>\n",
       "      <td>3</td>\n",
       "      <td>Heikkinen, Miss. Laina</td>\n",
       "      <td>feminino</td>\n",
       "      <td>26.0</td>\n",
       "      <td>adultos</td>\n",
       "    </tr>\n",
       "    <tr>\n",
       "      <th>4</th>\n",
       "      <td>sim</td>\n",
       "      <td>1</td>\n",
       "      <td>Futrelle, Mrs. Jacques Heath (Lily May Peel)</td>\n",
       "      <td>feminino</td>\n",
       "      <td>35.0</td>\n",
       "      <td>adultos</td>\n",
       "    </tr>\n",
       "    <tr>\n",
       "      <th>5</th>\n",
       "      <td>não</td>\n",
       "      <td>3</td>\n",
       "      <td>Allen, Mr. William Henry</td>\n",
       "      <td>masculino</td>\n",
       "      <td>35.0</td>\n",
       "      <td>adultos</td>\n",
       "    </tr>\n",
       "    <tr>\n",
       "      <th>7</th>\n",
       "      <td>não</td>\n",
       "      <td>1</td>\n",
       "      <td>McCarthy, Mr. Timothy J</td>\n",
       "      <td>masculino</td>\n",
       "      <td>54.0</td>\n",
       "      <td>adultos</td>\n",
       "    </tr>\n",
       "    <tr>\n",
       "      <th>8</th>\n",
       "      <td>não</td>\n",
       "      <td>3</td>\n",
       "      <td>Palsson, Master. Gosta Leonard</td>\n",
       "      <td>masculino</td>\n",
       "      <td>2.0</td>\n",
       "      <td>crianças</td>\n",
       "    </tr>\n",
       "    <tr>\n",
       "      <th>9</th>\n",
       "      <td>sim</td>\n",
       "      <td>3</td>\n",
       "      <td>Johnson, Mrs. Oscar W (Elisabeth Vilhelmina Berg)</td>\n",
       "      <td>feminino</td>\n",
       "      <td>27.0</td>\n",
       "      <td>adultos</td>\n",
       "    </tr>\n",
       "    <tr>\n",
       "      <th>10</th>\n",
       "      <td>sim</td>\n",
       "      <td>2</td>\n",
       "      <td>Nasser, Mrs. Nicholas (Adele Achem)</td>\n",
       "      <td>feminino</td>\n",
       "      <td>14.0</td>\n",
       "      <td>crianças</td>\n",
       "    </tr>\n",
       "  </tbody>\n",
       "</table>\n",
       "</div>"
      ],
      "text/plain": [
       "              sobreviveu  classe  \\\n",
       "id_passageiro                      \n",
       "1                    não       3   \n",
       "2                    sim       1   \n",
       "3                    sim       3   \n",
       "4                    sim       1   \n",
       "5                    não       3   \n",
       "7                    não       1   \n",
       "8                    não       3   \n",
       "9                    sim       3   \n",
       "10                   sim       2   \n",
       "\n",
       "                                                            nome       sexo  \\\n",
       "id_passageiro                                                                 \n",
       "1                                        Braund, Mr. Owen Harris  masculino   \n",
       "2              Cumings, Mrs. John Bradley (Florence Briggs Th...   feminino   \n",
       "3                                         Heikkinen, Miss. Laina   feminino   \n",
       "4                   Futrelle, Mrs. Jacques Heath (Lily May Peel)   feminino   \n",
       "5                                       Allen, Mr. William Henry  masculino   \n",
       "7                                        McCarthy, Mr. Timothy J  masculino   \n",
       "8                                 Palsson, Master. Gosta Leonard  masculino   \n",
       "9              Johnson, Mrs. Oscar W (Elisabeth Vilhelmina Berg)   feminino   \n",
       "10                           Nasser, Mrs. Nicholas (Adele Achem)   feminino   \n",
       "\n",
       "               idade   faixa_e  \n",
       "id_passageiro                   \n",
       "1               22.0   adultos  \n",
       "2               38.0   adultos  \n",
       "3               26.0   adultos  \n",
       "4               35.0   adultos  \n",
       "5               35.0   adultos  \n",
       "7               54.0   adultos  \n",
       "8                2.0  crianças  \n",
       "9               27.0   adultos  \n",
       "10              14.0  crianças  "
      ]
     },
     "execution_count": 30,
     "metadata": {},
     "output_type": "execute_result"
    }
   ],
   "source": [
    "df_t.head(9)"
   ]
  },
  {
   "cell_type": "markdown",
   "metadata": {},
   "source": [
    "Verificando a quantidade de passageiros por faixa etária:"
   ]
  },
  {
   "cell_type": "code",
   "execution_count": 31,
   "metadata": {},
   "outputs": [
    {
     "data": {
      "text/plain": [
       "adultos     590\n",
       "crianças    113\n",
       "idosos       11\n",
       "Name: faixa_e, dtype: int64"
      ]
     },
     "execution_count": 31,
     "metadata": {},
     "output_type": "execute_result"
    }
   ],
   "source": [
    "df_t['faixa_e'].value_counts()"
   ]
  },
  {
   "cell_type": "markdown",
   "metadata": {},
   "source": [
    "Criando gráfico de pizza para avaliar a proporção de idades"
   ]
  },
  {
   "cell_type": "code",
   "execution_count": 32,
   "metadata": {
    "scrolled": true
   },
   "outputs": [
    {
     "data": {
      "text/plain": [
       "Text(0,0.5,'Faixa Etária')"
      ]
     },
     "execution_count": 32,
     "metadata": {},
     "output_type": "execute_result"
    },
    {
     "data": {
      "image/png": "[encoded data removed]",
      "text/plain": [
       "<Figure size 360x360 with 1 Axes>"
      ]
     },
     "metadata": {},
     "output_type": "display_data"
    }
   ],
   "source": [
    "df_t['faixa_e'].value_counts().plot(kind='pie', autopct='%1.1f%%', startangle=90, fontsize=15, figsize=(5,5), label='',\n",
    "                                   textprops=dict(color='black', weight='bold'))\n",
    "plt.title('Proporção de Faixa Etária', fontsize=15)\n",
    "plt.xlabel('Proporção',fontsize=14)\n",
    "plt.ylabel('Faixa Etária',fontsize=14)"
   ]
  },
  {
   "cell_type": "markdown",
   "metadata": {},
   "source": [
    "Utilizando groupby para verificar o total de sobreviventes por faixa etária"
   ]
  },
  {
   "cell_type": "code",
   "execution_count": 33,
   "metadata": {},
   "outputs": [
    {
     "data": {
      "text/plain": [
       "faixa_e   sobreviveu\n",
       "adultos   não           362\n",
       "          sim           228\n",
       "crianças  não            52\n",
       "          sim            61\n",
       "idosos    não            10\n",
       "          sim             1\n",
       "Name: faixa_e, dtype: int64"
      ]
     },
     "execution_count": 33,
     "metadata": {},
     "output_type": "execute_result"
    }
   ],
   "source": [
    "df_t.groupby(['faixa_e', 'sobreviveu'])['faixa_e'].count()"
   ]
  },
  {
   "cell_type": "markdown",
   "metadata": {},
   "source": [
    "Agora vamos criar um gráfico de barras empilhado para melhor visualização dos sobreviventes por faixa etária"
   ]
  },
  {
   "cell_type": "code",
   "execution_count": 34,
   "metadata": {},
   "outputs": [
    {
     "data": {
      "text/html": [
       "<div>\n",
       "<style scoped>\n",
       "    .dataframe tbody tr th:only-of-type {\n",
       "        vertical-align: middle;\n",
       "    }\n",
       "\n",
       "    .dataframe tbody tr th {\n",
       "        vertical-align: top;\n",
       "    }\n",
       "\n",
       "    .dataframe thead th {\n",
       "        text-align: right;\n",
       "    }\n",
       "</style>\n",
       "<table border=\"1\" class=\"dataframe\">\n",
       "  <thead>\n",
       "    <tr style=\"text-align: right;\">\n",
       "      <th>sobreviveu</th>\n",
       "      <th>não</th>\n",
       "      <th>sim</th>\n",
       "      <th>id</th>\n",
       "    </tr>\n",
       "    <tr>\n",
       "      <th>faixa_e</th>\n",
       "      <th></th>\n",
       "      <th></th>\n",
       "      <th></th>\n",
       "    </tr>\n",
       "  </thead>\n",
       "  <tbody>\n",
       "    <tr>\n",
       "      <th>crianças</th>\n",
       "      <td>52</td>\n",
       "      <td>61</td>\n",
       "      <td>1.0</td>\n",
       "    </tr>\n",
       "    <tr>\n",
       "      <th>adultos</th>\n",
       "      <td>362</td>\n",
       "      <td>228</td>\n",
       "      <td>2.0</td>\n",
       "    </tr>\n",
       "    <tr>\n",
       "      <th>idosos</th>\n",
       "      <td>10</td>\n",
       "      <td>1</td>\n",
       "      <td>3.0</td>\n",
       "    </tr>\n",
       "  </tbody>\n",
       "</table>\n",
       "</div>"
      ],
      "text/plain": [
       "sobreviveu  não  sim   id\n",
       "faixa_e                  \n",
       "crianças     52   61  1.0\n",
       "adultos     362  228  2.0\n",
       "idosos       10    1  3.0"
      ]
     },
     "execution_count": 34,
     "metadata": {},
     "output_type": "execute_result"
    }
   ],
   "source": [
    "# Tabela com a contagem de sobreviventes por faixa etária\n",
    "tab_idades = df_t.pivot_table(values='nome', index='faixa_e', aggfunc='count', columns='sobreviveu')\n",
    "\n",
    "# Para que o gráfico saia na ordem correta e não alfabética foram criadas chaves para as faixas\n",
    "tab_idades.loc['crianças', 'id'] = 1\n",
    "tab_idades.loc['adultos', 'id'] = 2\n",
    "tab_idades.loc['idosos', 'id'] = 3\n",
    "\n",
    "# Ordena a lista pelo id criado\n",
    "tab_idades.sort_values(by=['id'], inplace=True)\n",
    "\n",
    "tab_idades"
   ]
  },
  {
   "cell_type": "code",
   "execution_count": 35,
   "metadata": {},
   "outputs": [
    {
     "data": {
      "image/png": "[encoded data removed]",
      "text/plain": [
       "<Figure size 432x288 with 1 Axes>"
      ]
     },
     "metadata": {
      "needs_background": "light"
     },
     "output_type": "display_data"
    }
   ],
   "source": [
    "# Cria as barras de sobreviventes divididos por classe \n",
    "# 'bottom' é utilizado para alinhar uma coluna sobre a outra\n",
    "x_pos = np.arange(len(tab_idades['não']))\n",
    "bar_n = plt.bar(x_pos, tab_idades['não'], 0.5, color='darkred')\n",
    "bar_s = plt.bar(x_pos, tab_idades['sim'], 0.5, color='green', bottom=tab_idades['não'])\n",
    "\n",
    "# Definindo título e labels do eixo x\n",
    "plt.title('Sobreviventes por Faixa Etária', fontsize=15)\n",
    "plt.xticks(x_pos, ('Crianças', 'Adultos', 'Idosos'), fontsize=13)\n",
    "plt.xlabel('Grupo de Faixa Etária',fontsize=14)\n",
    "plt.ylabel('Nº de Passageiros',fontsize=14)\n",
    "\n",
    "# Definindo parâmetros da legenda\n",
    "sim = mpatches.Patch(color='green', label='Sim')\n",
    "nao = mpatches.Patch(color='darkred', label='Não')\n",
    "plt.legend(title='Sobreviveu', handles=[sim, nao], loc=2)\n",
    "\n",
    "plt.show()"
   ]
  },
  {
   "cell_type": "code",
   "execution_count": 36,
   "metadata": {},
   "outputs": [
    {
     "name": "stdout",
     "output_type": "stream",
     "text": [
      "Taxa de Sobrevivência por Faixa Etária\n",
      "Crianças: 53.51 %\n",
      "Adultos: 38.51 %\n",
      "Idosos: 7.14 %\n"
     ]
    }
   ],
   "source": [
    "print('Taxa de Sobrevivência por Faixa Etária')\n",
    "\n",
    "# Utilizando a função para calcular a proporção por Idade\n",
    "calc_prop(tab_idades)"
   ]
  },
  {
   "cell_type": "markdown",
   "metadata": {},
   "source": [
    "#### Observação:\n",
    "As crianças foram as que tiveram a maior taxa de sobrevivência, enquanto os idosos tiveram uma taxa baixíssima os adultos não tiveram uma taxa tão baixa quanto os idosos mas ainda assim menos da metade sobreviveram."
   ]
  },
  {
   "cell_type": "markdown",
   "metadata": {},
   "source": [
    "## Conclusão\n",
    "Dentro dos dados avaliados, mais da metade dos passageiros não sobreviveu, cerca de 62%, após as análises feitas através dos dados e gráficos temos informações suficientes para responder as questões propostas:\n",
    "\n",
    "1. __*Qual o número de sobreviventes?*__<br>\n",
    "290<br><br>\n",
    "\n",
    "* __*Qual o número de vítimas?*__<br>\n",
    "424<br><br>\n",
    "\n",
    "* __*Qual a proporção de vítimas e sobreviventes?*__<br>\n",
    "59% das pessoas não sobreviveram e 41% sobreviveram.<br><br>\n",
    "\n",
    "* __*Passageiros de classes superiores tiveram mais chances de sobreviver?*__ <br>\n",
    "Sim, sem dúvida. Principalmente a 1ª classe em relação a 3ª, mesmo tendo um número total bem menor a 1ª classe teve menos vítimas e mais sobreviventes, enquanto a 2ª ficou entre os dois em termos de porporções. <br><br>\n",
    "\n",
    "* __*Quais foram mais propensos a sobreviver, homens ou mulheres?*__<br>\n",
    "Mulheres. A maior parte da tripulação era composta por homens 65% contra 35% de mulheres, mesmo avaliando por classes a proporção de homens era maior do que mulheres, mas a taxa de sobreviência não acompanhou essa proporção, a diferença é ainda maior que a comparação de classes: 74% das mulheres sobreviveram, contra 18% dos homens. <br><br>\n",
    "\n",
    "* __*Qual a idade do passageiro mais jovem?*__<br>\n",
    "5 meses <br><br>\n",
    "\n",
    "* __*Qual a idade do passageiro mais mais velho?*__<br>\n",
    "80 anos <br><br>\n",
    "\n",
    "* __*Qual a média de idade dos passageiros?*__<br>\n",
    "29 anos<br><br>\n",
    "\n",
    "* __*O índice de sobrevivência sofre impacto pela faixa etária?*__<br>\n",
    "Sim. Um pouco mais da metade das crianças sobreviveram 53% a diferença não é tão grande em relação aos adultos (38%), mas entre os idosos apenas 7% sobreviveram. <br><br>\n",
    "\n",
    "* __*Quais os fatores que mais influenciaram na taxa de sobrevivência?*__<br>\n",
    "Dentre os fatores avaliados o que mais influenciou foi o gênero, pois as mulheres tiveram uma taxa de sobreviência muito maior do que os homens. Seguido pelas classes que causaram forte impacto nas taxas e por último a faixa etária que apesar de não ter uma diferença tão grande entre crianças e adultos ainda assim influenciou principalmente entre os idosos. <br><br>\n",
    "\n",
    "O fato é que estatísticamente falando, se você fosse do sexo feminino, da 1ª classe e criança teria muito mais chances de sobrevivênvia do que se fosse do sexo masculino, 3ª classe e idoso, que por sua vez teria chances altíssimas de não sobreviver. Este resultado se deu provavelmente por prioridades nos embarques dos botes salva vidas e localização dos quartos. <br><br>"
   ]
  },
  {
   "cell_type": "markdown",
   "metadata": {},
   "source": [
    "## Limitações\n",
    "Dentro deste projeto foram identificados alguns fatores limitantes nas colunas `sobreviveu` e `idade` que poderiam afetar negativamente e dificultar as análises. As limitações foram listadas e descritas abaixo informando também as ações tomadas para contorná-las:\n",
    "\n",
    "1. __*Limitação: A coluna `sobreviveu` não possuia representação clara*__<br>\n",
    "Os valores estavam representados por `0` e `1` que poderiam causar dificuldades e erros de interpretação nas análises se o passageiro sobreviveu ou não. <br><br>\n",
    "*Ação tomada:* Os valores de `0` e `1` foram substituídos por `não` e `sim`, para tornar isso possível foi preciso converter o tipo de dados da coluna de `int` para `str`. Estas alterações facilitaram a compreensão nas informações estatísticas e visualização nos gráficos.<br><br><br>\n",
    "\n",
    "* __*Limitação: A coluna `idade` possuia valores nulos*__<br>\n",
    "Algumas linhas não tinham o valor de idade preenchido, o que poderia causar erros de cálculo nás analises da variável. <br><br>\n",
    "*Ação tomada:* Após fazer análises de outras variáveis os valores de idade foram filtrados para remover os valores nulos.<br><br><br>\n",
    "\n",
    "* __*Limitação: Idades menores que 1 ano estavam fracionadas*__<br>\n",
    "Os valores de idades estavam representados por anos, mas caso fosse menor que 1 anos estavam fracionados, este fator também poderia causar erros de cálculos e interpretação caso não fosse tratado.<br><br>\n",
    "*Ação tomada:* Durante as análises foi criada uma função para verificar se a idade é menor que 1 e caso positivo converter.<br><br><br>\n",
    "\n",
    "* __*Limitação: A coluna `idade` possuia muitos valores únicos*__<br>\n",
    "Um número muito grande de valores únicos dificulta análises de proporções.<br><br>\n",
    "*Ação tomada:* Foram criados três grupos de idade `crianças`, `adultos` e `idosos`. Que facilitou as análises e criações de gráficos por faixa etária.<br><br><br>"
   ]
  },
  {
   "cell_type": "markdown",
   "metadata": {},
   "source": [
    "## Fontes:\n",
    "\n",
    "Matplotlib - Legend guide: <br>\n",
    "https://matplotlib.org/users/legend_guide.html\n",
    "\n",
    "Matplotlib - Pie Chart: <br>\n",
    "https://matplotlib.org/api/_as_gen/matplotlib.pyplot.pie.html#matplotlib.pyplot.pie\n",
    "\n",
    "Matplotlib - Bar Chart: <br>\n",
    "https://matplotlib.org/api/_as_gen/matplotlib.pyplot.bar.html\n",
    "\n",
    "Seaborn Examples: <br>\n",
    "https://seaborn.pydata.org/examples/index.html\n",
    "\n",
    "Stack Overflow - How to print Y axis label horizontally in a matplotlib / pylab chart: <br>\n",
    "https://stackoverflow.com/questions/27671748/how-to-print-y-axis-label-horizontally-in-a-matplotlib-pylab-chart\n",
    "\n",
    "Stack Overflow - Como limitar números decimais em python: <br>\n",
    "https://pt.stackoverflow.com/questions/176243/como-limitar-n%C3%BAmeros-decimais-em-python\n",
    "\n",
    "Paulo Vasconcellos - Os 15 melhores comandos de Matplotlib: <br>\n",
    "https://paulovasconcellos.com.br/15-comandos-de-matplotlib-que-talvez-voc%C3%AA-n%C3%A3o-conhe%C3%A7a-17cf88a75119\n",
    "\n",
    "Felipe Galvão - Visualização de Dados com Python (matplotlib): <br>\n",
    "http://felipegalvao.com.br/blog/2016/03/08/visualizacao-de-dados-com-python-matplotlib/\n",
    "\n",
    "Pandas Docs - Comparison with SQL: <br>\n",
    "https://pandas.pydata.org/pandas-docs/stable/comparison_with_sql.html\n",
    "\n",
    "Pandas Docs - Sort Values: <br>\n",
    "https://pandas.pydata.org/pandas-docs/stable/generated/pandas.DataFrame.sort_values.html\n",
    "\n",
    "Jupyter Notebook Docs - Working With Markdown Cells: <br>\n",
    "https://jupyter-notebook.readthedocs.io/en/stable/examples/Notebook/Working%20With%20Markdown%20Cells.html"
   ]
  }
 ],
 "metadata": {
  "kernelspec": {
   "display_name": "Python 3",
   "language": "python",
   "name": "python3"
  },
  "language_info": {
   "codemirror_mode": {
    "name": "ipython",
    "version": 3
   },
   "file_extension": ".py",
   "mimetype": "text/x-python",
   "name": "python",
   "nbconvert_exporter": "python",
   "pygments_lexer": "ipython3",
   "version": "3.7.0"
  }
 },
 "nbformat": 4,
 "nbformat_minor": 2
}
